{
    "nbformat_minor": 1, 
    "cells": [
        {
            "source": "**Parkinson Diagnosis Classifier**", 
            "cell_type": "markdown", 
            "metadata": {
                "collapsed": true
            }
        }, 
        {
            "source": "The dataset for this model comes from UC Irvine's Machine Learning Repository.\n\n[Parkinson Dataset with replicated acoustic features Data Set](http://archive.ics.uci.edu/ml/datasets/Parkinson+Dataset+with+replicated+acoustic+features+#)", 
            "cell_type": "markdown", 
            "metadata": {}
        }, 
        {
            "source": "****Get Data****", 
            "cell_type": "markdown", 
            "metadata": {}
        }, 
        {
            "execution_count": 37, 
            "cell_type": "code", 
            "metadata": {}, 
            "outputs": [], 
            "source": "# The code was removed by Watson Studio for sharing."
        }, 
        {
            "execution_count": 38, 
            "cell_type": "code", 
            "metadata": {}, 
            "outputs": [
                {
                    "output_type": "stream", 
                    "name": "stdout", 
                    "text": "Project Name: Warriors-Test-02\nProject Description: This is a test project for Watson&#x27;s Warriors.\nProject Bucket Name: warriorstest02-donotdelete-pr-tkx3ftetaseqtk\nProject Assets (Connections): []\n"
                }
            ], 
            "source": "print('Project Name: {0}'.format(project.get_name()))\nprint('Project Description: {0}'.format(project.get_description()))\nprint('Project Bucket Name: {0}'.format(project.get_project_bucket_name()))\nprint('Project Assets (Connections): {0}'.format(project.get_assets(asset_type='connection')))"
        }, 
        {
            "execution_count": 40, 
            "cell_type": "code", 
            "metadata": {}, 
            "outputs": [
                {
                    "execution_count": 40, 
                    "metadata": {}, 
                    "data": {
                        "text/html": "<div>\n<style scoped>\n    .dataframe tbody tr th:only-of-type {\n        vertical-align: middle;\n    }\n\n    .dataframe tbody tr th {\n        vertical-align: top;\n    }\n\n    .dataframe thead th {\n        text-align: right;\n    }\n</style>\n<table border=\"1\" class=\"dataframe\">\n  <thead>\n    <tr style=\"text-align: right;\">\n      <th></th>\n      <th>ID</th>\n      <th>Recording</th>\n      <th>Status</th>\n      <th>Gender</th>\n      <th>Jitter_rel</th>\n      <th>Jitter_abs</th>\n      <th>Jitter_RAP</th>\n      <th>Jitter_PPQ</th>\n      <th>Shim_loc</th>\n      <th>Shim_dB</th>\n      <th>...</th>\n      <th>Delta3</th>\n      <th>Delta4</th>\n      <th>Delta5</th>\n      <th>Delta6</th>\n      <th>Delta7</th>\n      <th>Delta8</th>\n      <th>Delta9</th>\n      <th>Delta10</th>\n      <th>Delta11</th>\n      <th>Delta12</th>\n    </tr>\n  </thead>\n  <tbody>\n    <tr>\n      <th>0</th>\n      <td>CONT-01</td>\n      <td>1</td>\n      <td>0</td>\n      <td>1</td>\n      <td>0.25546</td>\n      <td>0.000015</td>\n      <td>0.001467</td>\n      <td>0.001673</td>\n      <td>0.030256</td>\n      <td>0.26313</td>\n      <td>...</td>\n      <td>1.407701</td>\n      <td>1.417218</td>\n      <td>1.380352</td>\n      <td>1.420670</td>\n      <td>1.451240</td>\n      <td>1.440295</td>\n      <td>1.403678</td>\n      <td>1.405495</td>\n      <td>1.416705</td>\n      <td>1.354610</td>\n    </tr>\n    <tr>\n      <th>1</th>\n      <td>CONT-01</td>\n      <td>2</td>\n      <td>0</td>\n      <td>1</td>\n      <td>0.36964</td>\n      <td>0.000022</td>\n      <td>0.001932</td>\n      <td>0.002245</td>\n      <td>0.023146</td>\n      <td>0.20217</td>\n      <td>...</td>\n      <td>1.331232</td>\n      <td>1.227338</td>\n      <td>1.213377</td>\n      <td>1.352739</td>\n      <td>1.354242</td>\n      <td>1.365692</td>\n      <td>1.322870</td>\n      <td>1.314549</td>\n      <td>1.318999</td>\n      <td>1.323508</td>\n    </tr>\n    <tr>\n      <th>2</th>\n      <td>CONT-01</td>\n      <td>3</td>\n      <td>0</td>\n      <td>1</td>\n      <td>0.23514</td>\n      <td>0.000013</td>\n      <td>0.001353</td>\n      <td>0.001546</td>\n      <td>0.019338</td>\n      <td>0.16710</td>\n      <td>...</td>\n      <td>1.412304</td>\n      <td>1.324674</td>\n      <td>1.276088</td>\n      <td>1.429634</td>\n      <td>1.455996</td>\n      <td>1.368882</td>\n      <td>1.438053</td>\n      <td>1.388910</td>\n      <td>1.305469</td>\n      <td>1.305402</td>\n    </tr>\n    <tr>\n      <th>3</th>\n      <td>CONT-02</td>\n      <td>1</td>\n      <td>0</td>\n      <td>0</td>\n      <td>0.29320</td>\n      <td>0.000017</td>\n      <td>0.001105</td>\n      <td>0.001444</td>\n      <td>0.024716</td>\n      <td>0.20892</td>\n      <td>...</td>\n      <td>1.501200</td>\n      <td>1.534170</td>\n      <td>1.323993</td>\n      <td>1.496442</td>\n      <td>1.472926</td>\n      <td>1.643177</td>\n      <td>1.551286</td>\n      <td>1.638346</td>\n      <td>1.604008</td>\n      <td>1.621456</td>\n    </tr>\n    <tr>\n      <th>4</th>\n      <td>CONT-02</td>\n      <td>2</td>\n      <td>0</td>\n      <td>0</td>\n      <td>0.23075</td>\n      <td>0.000015</td>\n      <td>0.001073</td>\n      <td>0.001404</td>\n      <td>0.013119</td>\n      <td>0.11607</td>\n      <td>...</td>\n      <td>1.508468</td>\n      <td>1.334511</td>\n      <td>1.610694</td>\n      <td>1.685021</td>\n      <td>1.417614</td>\n      <td>1.574895</td>\n      <td>1.640088</td>\n      <td>1.533666</td>\n      <td>1.297536</td>\n      <td>1.382023</td>\n    </tr>\n  </tbody>\n</table>\n<p>5 rows \u00d7 48 columns</p>\n</div>", 
                        "text/plain": "        ID  Recording  Status  Gender  Jitter_rel  Jitter_abs  Jitter_RAP  \\\n0  CONT-01          1       0       1     0.25546    0.000015    0.001467   \n1  CONT-01          2       0       1     0.36964    0.000022    0.001932   \n2  CONT-01          3       0       1     0.23514    0.000013    0.001353   \n3  CONT-02          1       0       0     0.29320    0.000017    0.001105   \n4  CONT-02          2       0       0     0.23075    0.000015    0.001073   \n\n   Jitter_PPQ  Shim_loc  Shim_dB  ...    Delta3    Delta4    Delta5    Delta6  \\\n0    0.001673  0.030256  0.26313  ...  1.407701  1.417218  1.380352  1.420670   \n1    0.002245  0.023146  0.20217  ...  1.331232  1.227338  1.213377  1.352739   \n2    0.001546  0.019338  0.16710  ...  1.412304  1.324674  1.276088  1.429634   \n3    0.001444  0.024716  0.20892  ...  1.501200  1.534170  1.323993  1.496442   \n4    0.001404  0.013119  0.11607  ...  1.508468  1.334511  1.610694  1.685021   \n\n     Delta7    Delta8    Delta9   Delta10   Delta11   Delta12  \n0  1.451240  1.440295  1.403678  1.405495  1.416705  1.354610  \n1  1.354242  1.365692  1.322870  1.314549  1.318999  1.323508  \n2  1.455996  1.368882  1.438053  1.388910  1.305469  1.305402  \n3  1.472926  1.643177  1.551286  1.638346  1.604008  1.621456  \n4  1.417614  1.574895  1.640088  1.533666  1.297536  1.382023  \n\n[5 rows x 48 columns]"
                    }, 
                    "output_type": "execute_result"
                }
            ], 
            "source": "# The code was removed by Watson Studio for sharing."
        }, 
        {
            "execution_count": 51, 
            "cell_type": "code", 
            "metadata": {}, 
            "outputs": [
                {
                    "execution_count": 51, 
                    "metadata": {}, 
                    "data": {
                        "text/html": "<div>\n<style scoped>\n    .dataframe tbody tr th:only-of-type {\n        vertical-align: middle;\n    }\n\n    .dataframe tbody tr th {\n        vertical-align: top;\n    }\n\n    .dataframe thead th {\n        text-align: right;\n    }\n</style>\n<table border=\"1\" class=\"dataframe\">\n  <thead>\n    <tr style=\"text-align: right;\">\n      <th></th>\n      <th>Recording</th>\n      <th>Gender</th>\n      <th>Jitter_rel</th>\n      <th>Jitter_abs</th>\n      <th>Jitter_RAP</th>\n      <th>Jitter_PPQ</th>\n      <th>Shim_loc</th>\n      <th>Shim_dB</th>\n      <th>Shim_APQ3</th>\n      <th>Shim_APQ5</th>\n      <th>...</th>\n      <th>Delta3</th>\n      <th>Delta4</th>\n      <th>Delta5</th>\n      <th>Delta6</th>\n      <th>Delta7</th>\n      <th>Delta8</th>\n      <th>Delta9</th>\n      <th>Delta10</th>\n      <th>Delta11</th>\n      <th>Delta12</th>\n    </tr>\n  </thead>\n  <tbody>\n    <tr>\n      <th>75</th>\n      <td>1</td>\n      <td>1</td>\n      <td>0.21196</td>\n      <td>0.000012</td>\n      <td>0.001276</td>\n      <td>0.001557</td>\n      <td>0.027919</td>\n      <td>0.23795</td>\n      <td>0.014838</td>\n      <td>0.019850</td>\n      <td>...</td>\n      <td>1.406110</td>\n      <td>1.332362</td>\n      <td>1.336940</td>\n      <td>1.392848</td>\n      <td>1.403844</td>\n      <td>1.361599</td>\n      <td>1.383108</td>\n      <td>1.479876</td>\n      <td>1.547311</td>\n      <td>1.292349</td>\n    </tr>\n    <tr>\n      <th>215</th>\n      <td>3</td>\n      <td>1</td>\n      <td>0.68371</td>\n      <td>0.000038</td>\n      <td>0.004264</td>\n      <td>0.003810</td>\n      <td>0.031605</td>\n      <td>0.27507</td>\n      <td>0.017943</td>\n      <td>0.021056</td>\n      <td>...</td>\n      <td>0.931288</td>\n      <td>0.958077</td>\n      <td>0.972559</td>\n      <td>0.974807</td>\n      <td>0.901464</td>\n      <td>0.939198</td>\n      <td>0.939558</td>\n      <td>0.941699</td>\n      <td>0.955907</td>\n      <td>0.978104</td>\n    </tr>\n    <tr>\n      <th>90</th>\n      <td>1</td>\n      <td>1</td>\n      <td>0.64068</td>\n      <td>0.000046</td>\n      <td>0.003532</td>\n      <td>0.003278</td>\n      <td>0.025302</td>\n      <td>0.22205</td>\n      <td>0.013866</td>\n      <td>0.014489</td>\n      <td>...</td>\n      <td>1.641386</td>\n      <td>1.658016</td>\n      <td>1.522777</td>\n      <td>1.582965</td>\n      <td>1.637210</td>\n      <td>1.646390</td>\n      <td>1.434436</td>\n      <td>1.307710</td>\n      <td>1.690917</td>\n      <td>1.392329</td>\n    </tr>\n    <tr>\n      <th>230</th>\n      <td>3</td>\n      <td>1</td>\n      <td>1.17830</td>\n      <td>0.000070</td>\n      <td>0.007112</td>\n      <td>0.006334</td>\n      <td>0.149110</td>\n      <td>1.37560</td>\n      <td>0.093485</td>\n      <td>0.077903</td>\n      <td>...</td>\n      <td>1.262602</td>\n      <td>1.267017</td>\n      <td>1.255716</td>\n      <td>1.252483</td>\n      <td>1.275054</td>\n      <td>1.314755</td>\n      <td>1.372089</td>\n      <td>1.355118</td>\n      <td>1.337585</td>\n      <td>1.391346</td>\n    </tr>\n    <tr>\n      <th>201</th>\n      <td>1</td>\n      <td>0</td>\n      <td>1.25410</td>\n      <td>0.000092</td>\n      <td>0.006786</td>\n      <td>0.007702</td>\n      <td>0.058502</td>\n      <td>0.52835</td>\n      <td>0.032762</td>\n      <td>0.038839</td>\n      <td>...</td>\n      <td>0.848540</td>\n      <td>0.950254</td>\n      <td>0.855229</td>\n      <td>0.914237</td>\n      <td>0.955616</td>\n      <td>0.880020</td>\n      <td>1.008293</td>\n      <td>0.854644</td>\n      <td>0.900393</td>\n      <td>0.891114</td>\n    </tr>\n  </tbody>\n</table>\n<p>5 rows \u00d7 46 columns</p>\n</div>", 
                        "text/plain": "     Recording  Gender  Jitter_rel  Jitter_abs  Jitter_RAP  Jitter_PPQ  \\\n75           1       1     0.21196    0.000012    0.001276    0.001557   \n215          3       1     0.68371    0.000038    0.004264    0.003810   \n90           1       1     0.64068    0.000046    0.003532    0.003278   \n230          3       1     1.17830    0.000070    0.007112    0.006334   \n201          1       0     1.25410    0.000092    0.006786    0.007702   \n\n     Shim_loc  Shim_dB  Shim_APQ3  Shim_APQ5  ...    Delta3    Delta4  \\\n75   0.027919  0.23795   0.014838   0.019850  ...  1.406110  1.332362   \n215  0.031605  0.27507   0.017943   0.021056  ...  0.931288  0.958077   \n90   0.025302  0.22205   0.013866   0.014489  ...  1.641386  1.658016   \n230  0.149110  1.37560   0.093485   0.077903  ...  1.262602  1.267017   \n201  0.058502  0.52835   0.032762   0.038839  ...  0.848540  0.950254   \n\n       Delta5    Delta6    Delta7    Delta8    Delta9   Delta10   Delta11  \\\n75   1.336940  1.392848  1.403844  1.361599  1.383108  1.479876  1.547311   \n215  0.972559  0.974807  0.901464  0.939198  0.939558  0.941699  0.955907   \n90   1.522777  1.582965  1.637210  1.646390  1.434436  1.307710  1.690917   \n230  1.255716  1.252483  1.275054  1.314755  1.372089  1.355118  1.337585   \n201  0.855229  0.914237  0.955616  0.880020  1.008293  0.854644  0.900393   \n\n      Delta12  \n75   1.292349  \n215  0.978104  \n90   1.392329  \n230  1.391346  \n201  0.891114  \n\n[5 rows x 46 columns]"
                    }, 
                    "output_type": "execute_result"
                }
            ], 
            "source": "y = df_data_1.Status\nx = df_data_1.drop(['Status', 'ID'],axis=1)\n\nfrom sklearn.model_selection import train_test_split\nx_train, x_test, y_train, y_test = train_test_split(x, y, test_size=0.25, random_state=0)\nx_train.head()"
        }, 
        {
            "execution_count": 53, 
            "cell_type": "code", 
            "metadata": {}, 
            "outputs": [
                {
                    "output_type": "stream", 
                    "name": "stdout", 
                    "text": "0.8333333333333334\n"
                }, 
                {
                    "output_type": "stream", 
                    "name": "stderr", 
                    "text": "/opt/conda/envs/Python36/lib/python3.6/site-packages/sklearn/linear_model/logistic.py:433: FutureWarning: Default solver will be changed to 'lbfgs' in 0.22. Specify a solver to silence this warning.\n  FutureWarning)\n"
                }
            ], 
            "source": "from sklearn.linear_model import LogisticRegression\n\n# all parameters not specified are set to their defaults\nlogisticRegr = LogisticRegression()\n\nlogisticRegr.fit(x_train, y_train)\n\n# Returns a NumPy Array\n# Predict for One Observation\n#logisticRegr.predict(x_test[0].reshape(1,-1))\n\n#logisticRegr.predict(x_test[0:10])\n\npredictions = logisticRegr.predict(x_test)\n\n# Use score method to get accuracy of model\nscore = logisticRegr.score(x_test, y_test)\nprint(score)"
        }, 
        {
            "execution_count": null, 
            "cell_type": "code", 
            "metadata": {}, 
            "outputs": [], 
            "source": ""
        }
    ], 
    "metadata": {
        "kernelspec": {
            "display_name": "Python 3.6", 
            "name": "python3", 
            "language": "python"
        }, 
        "language_info": {
            "mimetype": "text/x-python", 
            "nbconvert_exporter": "python", 
            "version": "3.6.8", 
            "name": "python", 
            "file_extension": ".py", 
            "pygments_lexer": "ipython3", 
            "codemirror_mode": {
                "version": 3, 
                "name": "ipython"
            }
        }
    }, 
    "nbformat": 4
}